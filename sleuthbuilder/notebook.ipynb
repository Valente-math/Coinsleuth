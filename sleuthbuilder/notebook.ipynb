{
 "cells": [
  {
   "cell_type": "code",
   "execution_count": null,
   "metadata": {},
   "outputs": [],
   "source": [
    "import ultimate_sleuthbuilder as usb\n",
    "\n",
    "import numpy as np\n",
    "import pandas as pd\n",
    "import matplotlib.pyplot as plt\n",
    "import seaborn as sns\n",
    "\n",
    "\n",
    "# Create a sampling distribution of mean chi-squared values\n",
    "N = 32 # Sequence length\n",
    "sample_size = 100 # Sample size\n",
    "trials = 20 # Number of trials\n",
    "\n",
    "expecations = usb.get_expected_counts(N)\n",
    "\n",
    "mean_p_values = []\n",
    "for trial in range(trials):\n",
    "    # Generate a sample of n random sequences of length N\n",
    "    sequences = [''.join(np.random.choice(['0', '1'], N)) for _ in range(sample_size)]\n",
    "\n",
    "    # Run trials in parallel on separate cores\n",
    "\n",
    "\n",
    "    p_values = []\n",
    "    for seq in sequences:\n",
    "        p = usb.analyze_sequence(seq)['p_value']\n",
    "        p_values.append(p)\n",
    "    mean_p_values.append(np.mean(p_values))\n",
    "\n",
    "# Create a histogram of the mean chi-squared values\n",
    "mean_p_values = np.array(mean_p_values)\n",
    "sample_df = pd.DataFrame(mean_p_values, columns=['Mean P-value'])\n",
    "\n",
    "# Save to csv\n",
    "sample_df.to_csv('data/mean_p_values.csv', index=False)"
   ]
  },
  {
   "cell_type": "code",
   "execution_count": null,
   "metadata": {},
   "outputs": [],
   "source": [
    "sns.histplot(sample_df, binrange=(0, 1), bins=40)\n",
    "plt.title('Sampling Distribution of Mean P-values')\n",
    "plt.xlabel('Mean P-value')\n",
    "plt.ylabel('Frequency')\n",
    "plt.show()"
   ]
  }
 ],
 "metadata": {
  "kernelspec": {
   "display_name": "coin-sleuth-tRbDaKlX-py3.10",
   "language": "python",
   "name": "python3"
  },
  "language_info": {
   "codemirror_mode": {
    "name": "ipython",
    "version": 3
   },
   "file_extension": ".py",
   "mimetype": "text/x-python",
   "name": "python",
   "nbconvert_exporter": "python",
   "pygments_lexer": "ipython3",
   "version": "3.10.13"
  }
 },
 "nbformat": 4,
 "nbformat_minor": 2
}
