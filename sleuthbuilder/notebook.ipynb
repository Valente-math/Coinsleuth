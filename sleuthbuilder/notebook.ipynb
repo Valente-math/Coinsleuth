{
 "cells": [
  {
   "cell_type": "code",
   "execution_count": 1,
   "metadata": {},
   "outputs": [
    {
     "name": "stdout",
     "output_type": "stream",
     "text": [
      "Ultimate Sleuthbuilder ready!\n",
      "Database loaded into memory.\n"
     ]
    }
   ],
   "source": [
    "import coinsleuth as aglz # Dedicated to my students Abby, Grace, Lulu, and Zoe\n",
    "\n",
    "aglz.initialize_sleuthbuilder()\n",
    "\n",
    "# N = 32 # Sequence length\n",
    "# sample_size = 10000\n",
    "# sample_df = aglz.generate_sample_df(sample_size, N)\n",
    "\n",
    "# trials = 100\n",
    "# statistic = 'p_value'\n",
    "# aglz.calculate_moes(N, sample_size, statistic)\n",
    "# sampling_distribution = aglz.build_sampling_distribution(trials, sample_size, N, statistic)\n",
    "# experimental_data = aglz.analyze_sequences_from_csv('data/experimental_data.csv')\n",
    "# data = aglz.plot_population_distribution(N, 'p_value', num_bins=20)\n",
    "\n",
    "# test_string = \"11101011000011101011000101000100\"\n",
    "# aglz.analyze_sequence(test_string)"
   ]
  }
 ],
 "metadata": {
  "kernelspec": {
   "display_name": "sleuthbuilder-3FPRYdGN-py3.12",
   "language": "python",
   "name": "python3"
  },
  "language_info": {
   "codemirror_mode": {
    "name": "ipython",
    "version": 3
   },
   "file_extension": ".py",
   "mimetype": "text/x-python",
   "name": "python",
   "nbconvert_exporter": "python",
   "pygments_lexer": "ipython3",
   "version": "3.12.3"
  }
 },
 "nbformat": 4,
 "nbformat_minor": 2
}
