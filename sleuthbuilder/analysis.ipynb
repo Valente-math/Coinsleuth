{
 "cells": [
  {
   "cell_type": "code",
   "execution_count": null,
   "metadata": {},
   "outputs": [],
   "source": [
    "import ultimate_sleuthbuilder as usb\n",
    "\n",
    "import numpy as np\n",
    "import pandas as pd\n",
    "import matplotlib.pyplot as plt\n",
    "import seaborn as sns"
   ]
  },
  {
   "cell_type": "code",
   "execution_count": 7,
   "metadata": {},
   "outputs": [],
   "source": [
    "N = 32 # Sequence length\n",
    "sample_size = 100 # Sample size\n",
    "trials = 20 # Number of trials"
   ]
  },
  {
   "cell_type": "code",
   "execution_count": null,
   "metadata": {},
   "outputs": [],
   "source": [
    "# Generate sampling distribution of p-values\n",
    "expecations = usb.get_expected_counts(N)\n",
    "\n",
    "mean_p_values = []\n",
    "for trial in range(trials):\n",
    "    # Generate a sample of n random sequences of length N\n",
    "    sequences = [''.join(np.random.choice(['0', '1'], N)) for _ in range(sample_size)]\n",
    "\n",
    "    p_values = []\n",
    "    for seq in sequences:\n",
    "        p = usb.analyze_sequence(seq)['p_value']\n",
    "        p_values.append(p)\n",
    "    mean_p_values.append(np.mean(p_values))\n",
    "\n",
    "mean_p_values = np.array(mean_p_values)\n",
    "sample_df = pd.DataFrame(mean_p_values, columns=['Mean P-value'])\n",
    "\n",
    "# Save to csv\n",
    "sample_df.to_csv('data/mean_p_values.csv', index=False)"
   ]
  },
  {
   "cell_type": "code",
   "execution_count": null,
   "metadata": {},
   "outputs": [],
   "source": [
    "# Visualization\n",
    "\n",
    "sns.histplot(sample_df, binrange=(0, 1), bins=40)\n",
    "plt.title('Sampling Distribution of Mean P-values')\n",
    "plt.xlabel('Mean P-value')\n",
    "plt.ylabel('Frequency')\n",
    "plt.show()"
   ]
  },
  {
   "cell_type": "code",
   "execution_count": null,
   "metadata": {},
   "outputs": [],
   "source": [
    "# Calculate margin of error for various confidence levels\n",
    "z_scores = {0.90 : 1.645, 0.95 : 1.960, 0.99 : 2.576, 0.999 : 3.291}\n",
    "confidence_levels = z_scores.keys()\n",
    "margin_of_errors = {level : [] for level in confidence_levels}\n",
    "for level in confidence_levels:\n",
    "    # Open the hd5 database at usb.get_db_path()\n",
    "    db_path = usb.get_db_path()  # Get the path to the database\n",
    "\n",
    "    with pd.HDFStore(db_path, mode='r') as store:  # Open the store in append mode\n",
    "        key = usb.get_db_key('summary/p_value')\n",
    "        summary_df = store[key]\n",
    "        \n",
    "        # Get standard deviation for sequences of length N\n",
    "        std_dev = summary_df.loc[N, 'std_dev']\n",
    "        margin_of_error = z_scores[level] * std_dev / np.sqrt(sample_size)\n",
    "        margin_of_errors[level].append(margin_of_error)\n",
    "\n",
    "print('Margin of Error for Various Confidence Levels')\n",
    "for level in confidence_levels:\n",
    "    print(f'{level} confidence level: {margin_of_errors[level]}')"
   ]
  },
  {
   "cell_type": "code",
   "execution_count": null,
   "metadata": {},
   "outputs": [],
   "source": [
    "# Generate sampling distribution of p-values (with parallel processing)"
   ]
  }
 ],
 "metadata": {
  "kernelspec": {
   "display_name": "coin-sleuth-tRbDaKlX-py3.10",
   "language": "python",
   "name": "python3"
  },
  "language_info": {
   "codemirror_mode": {
    "name": "ipython",
    "version": 3
   },
   "file_extension": ".py",
   "mimetype": "text/x-python",
   "name": "python",
   "nbconvert_exporter": "python",
   "pygments_lexer": "ipython3",
   "version": "3.10.13"
  }
 },
 "nbformat": 4,
 "nbformat_minor": 2
}
