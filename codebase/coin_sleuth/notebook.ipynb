{
 "cells": [
  {
   "cell_type": "code",
   "execution_count": null,
   "metadata": {},
   "outputs": [],
   "source": [
    "import timeit\n",
    "import sleuthbuilder as sb\n",
    "import pandas as pd\n",
    "\n",
    "def test_algorithms(depth, trials=10):\n",
    "    # Set up\n",
    "    observations_df = sb.build_observations_df(depth)\n",
    "    expectations_df = sb.build_expectations_df(observations_df)\n",
    "\n",
    "    # Functions for timeit\n",
    "    global test_v0, test_v1, test_v2\n",
    "\n",
    "    def test_v0():\n",
    "        sb.build_expectations_df(sb.build_observations_df(depth))\n",
    "\n",
    "    def test_v1():\n",
    "        sb.build_statistics_df_v1(observations_df, expectations_df)\n",
    "\n",
    "    def test_v2():\n",
    "        sb.build_statistics_df_v2(observations_df, expectations_df)\n",
    "\n",
    "    # Timing each function using timeit\n",
    "    setup_time = timeit.timeit('test_v0()', globals=globals(), number=trials)/trials\n",
    "    print(f\"Average setup time at depth {depth} over {trials} runs: {setup_time} seconds\")\n",
    "\n",
    "    time_v1 = timeit.timeit('test_v1()', globals=globals(), number=trials)/trials\n",
    "    print(f\"Average time taken by v1 at depth {depth} over {trials} runs: {time_v1} seconds\")\n",
    "\n",
    "    time_v2 = timeit.timeit('test_v2()', globals=globals(), number=trials)/trials\n",
    "    print(f\"Average time taken by v2 at depth {depth} over {trials} runs: {time_v2} seconds\")\n",
    "\n",
    "    print()\n",
    "\n",
    "    return (setup_time, time_v1, time_v2)\n",
    "\n",
    "\n",
    "# Testing at different depths and storing ratios\n",
    "depths = range(1, 21)  # Depths from 1 to 20\n",
    "results = [test_algorithms(depth) for depth in depths]\n",
    "\n",
    "# Creating a DataFrame\n",
    "results_df = pd.DataFrame({\n",
    "    'Depth': depths,\n",
    "    'Setup Time (seconds)': [result[0] for result in results],\n",
    "    'Time v1 (seconds)': [result[1] for result in results],\n",
    "    'Time v2 (seconds)': [result[2] for result in results]\n",
    "})\n",
    "\n",
    "# Calculate the ratio of the times v1/v2\n",
    "# If ratio > 1, then v2 is faster\n",
    "# If ratio < 1, then v1 is faster\n",
    "results_df['Ratio (v1/v2)'] = results_df['Time v1 (seconds)'] / results_df['Time v2 (seconds)']\n",
    "\n"
   ]
  },
  {
   "cell_type": "code",
   "execution_count": null,
   "metadata": {},
   "outputs": [],
   "source": [
    "# sb.build_statistics_database(1, 10, store_observations=True, store_expectations=True, verbose=True)"
   ]
  },
  {
   "cell_type": "code",
   "execution_count": null,
   "metadata": {},
   "outputs": [],
   "source": [
    "# sb.get_p_value_for_sequence(\"1001001111\")"
   ]
  }
 ],
 "metadata": {
  "kernelspec": {
   "display_name": "coin-sleuth-tRbDaKlX-py3.10",
   "language": "python",
   "name": "python3"
  },
  "language_info": {
   "codemirror_mode": {
    "name": "ipython",
    "version": 3
   },
   "file_extension": ".py",
   "mimetype": "text/x-python",
   "name": "python",
   "nbconvert_exporter": "python",
   "pygments_lexer": "ipython3",
   "version": "3.12.3"
  }
 },
 "nbformat": 4,
 "nbformat_minor": 2
}
