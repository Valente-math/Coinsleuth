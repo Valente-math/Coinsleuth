{
 "cells": [
  {
   "cell_type": "code",
   "execution_count": null,
   "metadata": {},
   "outputs": [],
   "source": [
    "import empirical_sleuthbuilder as esb\n",
    "\n",
    "# Set computational limit\n",
    "esb.set_comp_limit(15)\n",
    "\n",
    "# Set database path\n",
    "esb.set_db_file_name('empirical_database.h5')\n",
    "\n",
    "# Test strings\n",
    "\n",
    "test_string = \"10010100100010010100010100100100\"\n",
    "\n",
    "esb.get_statistics(test_string)"
   ]
  },
  {
   "cell_type": "code",
   "execution_count": null,
   "metadata": {},
   "outputs": [],
   "source": [
    "import sleuthbuilder as sb\n",
    "\n",
    "# Set computational limit\n",
    "sb.set_comp_limit(20)\n",
    "\n",
    "statistics_df = sb.build_statistics_df(64, record_observations=True)\n",
    "\n",
    "# statistics_df.to_csv('data/partition_analysis_20.csv', index=False)"
   ]
  },
  {
   "cell_type": "code",
   "execution_count": 1,
   "metadata": {},
   "outputs": [
    {
     "name": "stdout",
     "output_type": "stream",
     "text": [
      "Processing N = 1...\n",
      "Processing N = 2...\n",
      "Processing N = 3...\n",
      "Processing N = 4...\n",
      "Processing N = 5...\n",
      "Processing N = 6...\n",
      "Processing N = 7...\n",
      "Processing N = 8...\n",
      "Processing N = 9...\n",
      "Processing N = 10...\n"
     ]
    }
   ],
   "source": [
    "import ultimate_sleuthbuilder as usb\n",
    "\n",
    "# Example usage:\n",
    "# for partition in usb.partitions(10):\n",
    "#     print(partition)\n",
    "#     print(usb.calculate_multiplicity(partition))\n",
    "\n",
    "# df = usb.analyze_partitions(10)\n",
    "\n",
    "usb.build_database(1, 10)"
   ]
  }
 ],
 "metadata": {
  "kernelspec": {
   "display_name": "coin-sleuth-tRbDaKlX-py3.10",
   "language": "python",
   "name": "python3"
  },
  "language_info": {
   "codemirror_mode": {
    "name": "ipython",
    "version": 3
   },
   "file_extension": ".py",
   "mimetype": "text/x-python",
   "name": "python",
   "nbconvert_exporter": "python",
   "pygments_lexer": "ipython3",
   "version": "3.12.3"
  }
 },
 "nbformat": 4,
 "nbformat_minor": 2
}
