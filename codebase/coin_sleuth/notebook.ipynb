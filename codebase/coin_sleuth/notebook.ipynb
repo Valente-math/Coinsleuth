{
 "cells": [
  {
   "cell_type": "code",
   "execution_count": null,
   "metadata": {},
   "outputs": [],
   "source": [
    "import sleuthbuilder as sb\n",
    "\n",
    "# Database parameters\n",
    "comp_limit = 10\n",
    "lower_bound = 1\n",
    "upper_bound = 20\n",
    "db_file_name = 'test_database.h5'\n",
    "# db_file_name =f'statistics_database_({lower},{upper})_{comp_limit}.h5'\n",
    "\n",
    "# Set computational limit\n",
    "sb.set_comp_limit(comp_limit)\n",
    "\n",
    "# Set database path\n",
    "sb.set_db_file_name(db_file_name)\n",
    "\n",
    "# Build database\n",
    "sb.build_statistics_database(lower_bound, upper_bound, \n",
    "                             store_observations=False, \n",
    "                             store_expectations=True,\n",
    "                             verbose=False)"
   ]
  },
  {
   "cell_type": "code",
   "execution_count": null,
   "metadata": {},
   "outputs": [],
   "source": [
    "zoe_imaginary_string = \"00111110010100001110010000111110\" \n",
    "zoe_real_string = \"00110111110100010100100101100001\"\n",
    "lulu_imaginary_string = \"00101110100010110110000011100101\"\n",
    "lulu_real_string = \"00110111110100010100100101100001\"\n",
    "\n",
    "sb.get_statistics(zoe_imaginary_string, \n",
    "                  save_new_data=True, \n",
    "                  verbose=False)"
   ]
  }
 ],
 "metadata": {
  "kernelspec": {
   "display_name": "coin-sleuth-tRbDaKlX-py3.10",
   "language": "python",
   "name": "python3"
  },
  "language_info": {
   "codemirror_mode": {
    "name": "ipython",
    "version": 3
   },
   "file_extension": ".py",
   "mimetype": "text/x-python",
   "name": "python",
   "nbconvert_exporter": "python",
   "pygments_lexer": "ipython3",
   "version": "3.10.13"
  }
 },
 "nbformat": 4,
 "nbformat_minor": 2
}
