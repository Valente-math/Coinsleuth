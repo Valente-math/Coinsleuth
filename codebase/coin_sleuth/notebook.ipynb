{
 "cells": [
  {
   "cell_type": "code",
   "execution_count": 3,
   "metadata": {},
   "outputs": [
    {
     "name": "stdout",
     "output_type": "stream",
     "text": [
      "Found expected counts for length_32.\n",
      "Found statistics for length_32.\n"
     ]
    },
    {
     "data": {
      "text/plain": [
       "{'chi_squared': 9.221129700199143,\n",
       " 'p_value_range': (0.2978515625, 0.2978515625)}"
      ]
     },
     "execution_count": 3,
     "metadata": {},
     "output_type": "execute_result"
    }
   ],
   "source": [
    "import sleuthbuilder as sb\n",
    "\n",
    "# Set computational limit\n",
    "sb.set_comp_limit(15)\n",
    "\n",
    "# Set database path\n",
    "sb.set_db_file_name('test_database.h5')\n",
    "\n",
    "# Test strings\n",
    "zoe_imaginary_string = \"00111110010100001110010000111110\" \n",
    "zoe_real_string = \"00110111110100010100100101100001\"\n",
    "lulu_imaginary_string = \"00101110100010110110000011100101\"\n",
    "lulu_real_string = \"00110111110100010100100101100001\"\n",
    "\n",
    "sb.get_statistics(zoe_imaginary_string, \n",
    "                  save_new_data=True, \n",
    "                  verbose=True)"
   ]
  }
 ],
 "metadata": {
  "kernelspec": {
   "display_name": "coin-sleuth-tRbDaKlX-py3.10",
   "language": "python",
   "name": "python3"
  },
  "language_info": {
   "codemirror_mode": {
    "name": "ipython",
    "version": 3
   },
   "file_extension": ".py",
   "mimetype": "text/x-python",
   "name": "python",
   "nbconvert_exporter": "python",
   "pygments_lexer": "ipython3",
   "version": "3.12.3"
  }
 },
 "nbformat": 4,
 "nbformat_minor": 2
}
