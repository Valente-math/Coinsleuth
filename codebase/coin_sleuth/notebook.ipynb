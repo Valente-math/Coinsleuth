{
 "cells": [
  {
   "cell_type": "code",
   "execution_count": 5,
   "metadata": {},
   "outputs": [
    {
     "name": "stdout",
     "output_type": "stream",
     "text": [
      "Statistics data for length_34 not found. Generating now...\n"
     ]
    },
    {
     "data": {
      "text/plain": [
       "'Chi-squared: 8.309253084718145, 0.361328125 < p < 0.3623046875'"
      ]
     },
     "execution_count": 5,
     "metadata": {},
     "output_type": "execute_result"
    }
   ],
   "source": [
    "import sleuthbuilder as sb\n",
    "\n",
    "# zoe_real_string = \"00110111110100010100100101100001\"\n",
    "# zoe_imaginary_string = \"00111110010100001110010000111110\" \n",
    "# lulu_real_string = \"00110111110100010100100101100001\"\n",
    "# lulu_imaginary_string = \"00101110100010110110000011100101\"\n",
    "\n",
    "# sb.set_comp_limit(15)\n",
    "\n",
    "sb.get_statistics_for_sequence(\"0011111001010000111001000011111011\", \n",
    "                               db_file_path=\"data/statistics_database_(1,15)_10.h5\", \n",
    "                               verbose=False)"
   ]
  }
 ],
 "metadata": {
  "kernelspec": {
   "display_name": "coin-sleuth-tRbDaKlX-py3.10",
   "language": "python",
   "name": "python3"
  },
  "language_info": {
   "codemirror_mode": {
    "name": "ipython",
    "version": 3
   },
   "file_extension": ".py",
   "mimetype": "text/x-python",
   "name": "python",
   "nbconvert_exporter": "python",
   "pygments_lexer": "ipython3",
   "version": "3.10.13"
  }
 },
 "nbformat": 4,
 "nbformat_minor": 2
}
