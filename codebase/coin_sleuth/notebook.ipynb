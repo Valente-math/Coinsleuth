{
 "cells": [
  {
   "cell_type": "code",
   "execution_count": 1,
   "metadata": {},
   "outputs": [
    {
     "name": "stdout",
     "output_type": "stream",
     "text": [
      "Builder ready...\n",
      "\n",
      "Statistics database build complete!\n"
     ]
    }
   ],
   "source": [
    "import sleuthbuilder as sb\n",
    "\n",
    "comp_limit = 12\n",
    "sb.build_statistics_database(1,32, \n",
    "                             filename=f'statistics_database_{comp_limit}.h5', \n",
    "                             store_expectations=True, \n",
    "                             COMP_LIMIT=comp_limit)"
   ]
  }
 ],
 "metadata": {
  "kernelspec": {
   "display_name": "coin-sleuth-tRbDaKlX-py3.10",
   "language": "python",
   "name": "python3"
  },
  "language_info": {
   "codemirror_mode": {
    "name": "ipython",
    "version": 3
   },
   "file_extension": ".py",
   "mimetype": "text/x-python",
   "name": "python",
   "nbconvert_exporter": "python",
   "pygments_lexer": "ipython3",
   "version": "3.12.3"
  }
 },
 "nbformat": 4,
 "nbformat_minor": 2
}
