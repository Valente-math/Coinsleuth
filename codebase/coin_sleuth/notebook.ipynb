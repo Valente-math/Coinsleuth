{
 "cells": [
  {
   "cell_type": "code",
   "execution_count": 1,
   "metadata": {},
   "outputs": [
    {
     "name": "stdout",
     "output_type": "stream",
     "text": [
      "Builder ready...\n",
      "\n"
     ]
    }
   ],
   "source": [
    "import sleuthbuilder as sb\n",
    "\n",
    "# Set computational limit\n",
    "sb.set_comp_limit(15)\n",
    "\n",
    "# Set database path\n",
    "sb.set_db_file_name('test_database.h5')"
   ]
  },
  {
   "cell_type": "code",
   "execution_count": 4,
   "metadata": {},
   "outputs": [
    {
     "name": "stdout",
     "output_type": "stream",
     "text": [
      "Combined mean rows saved to data/combined_mean_rows.csv\n"
     ]
    }
   ],
   "source": [
    "import pandas as pd\n",
    "\n",
    "# Assuming 'sb' is some module or object that has methods to set the database file name and get the database path\n",
    "sb.set_db_file_name('exp_database_24.h5')\n",
    "\n",
    "combined_df = pd.DataFrame()\n",
    "data_range = range(1, 25)\n",
    "\n",
    "with pd.HDFStore(sb.get_db_path(), 'a') as store:\n",
    "    for n in data_range:\n",
    "        id = f'length_{n}'\n",
    "        expectations_key = f'/expectations/{id}'\n",
    "        expectations_df = store[expectations_key]\n",
    "        mean_data = expectations_df['mean']\n",
    "        mean_series = pd.DataFrame(mean_data).T  # Transpose to make it a row\n",
    "        mean_series.index = [f'length_{n}']\n",
    "        combined_df = pd.concat([combined_df, mean_series])\n",
    "\n",
    "combined_df.columns = [f'runs_{n}' for n in data_range]\n",
    "\n",
    "# print(combined_df)\n",
    "\n",
    "# Save the combined DataFrame to a CSV file\n",
    "output_csv_path = 'data/combined_mean_rows.csv'\n",
    "combined_df.to_csv(output_csv_path, index=True)\n",
    "\n",
    "print(f\"Combined mean rows saved to {output_csv_path}\")\n",
    "\n"
   ]
  },
  {
   "cell_type": "code",
   "execution_count": null,
   "metadata": {},
   "outputs": [],
   "source": [
    "# Test strings\n",
    "zoe_imaginary_string = \"00111110010100001110010000111110\" \n",
    "zoe_real_string = \"00110111110100010100100101100001\"\n",
    "lulu_imaginary_string = \"00101110100010110110000011100101\"\n",
    "lulu_real_string = \"00110111110100010100100101100001\"\n",
    "\n",
    "zoe_smart_string  = \"11001010100101101010011101001110\"\n",
    "lulu_smart_string = \"01010101001100110001110000111110\"\n",
    "my_dumb_string    = \"10010100100010010100010100100100\"\n",
    "\n",
    "sb.get_statistics(my_dumb_string, \n",
    "                  save_new_data=True, \n",
    "                  verbose=False)"
   ]
  }
 ],
 "metadata": {
  "kernelspec": {
   "display_name": "coin-sleuth-tRbDaKlX-py3.10",
   "language": "python",
   "name": "python3"
  },
  "language_info": {
   "codemirror_mode": {
    "name": "ipython",
    "version": 3
   },
   "file_extension": ".py",
   "mimetype": "text/x-python",
   "name": "python",
   "nbconvert_exporter": "python",
   "pygments_lexer": "ipython3",
   "version": "3.10.13"
  }
 },
 "nbformat": 4,
 "nbformat_minor": 2
}
