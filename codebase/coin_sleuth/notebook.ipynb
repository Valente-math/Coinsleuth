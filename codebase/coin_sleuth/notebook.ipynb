{
 "cells": [
  {
   "cell_type": "code",
   "execution_count": null,
   "metadata": {},
   "outputs": [],
   "source": [
    "import empirical_sleuthbuilder as esb\n",
    "\n",
    "# Test strings\n",
    "test_string = \"10010100100010010100010100100100\"\n",
    "\n",
    "esb.analyze_sequence(test_string)"
   ]
  },
  {
   "cell_type": "code",
   "execution_count": 1,
   "metadata": {},
   "outputs": [
    {
     "data": {
      "text/plain": [
       "{'N': 24, 'chi_squared': 6.64500398152572, 'p_value': 0.4116489887237549}"
      ]
     },
     "execution_count": 1,
     "metadata": {},
     "output_type": "execute_result"
    }
   ],
   "source": [
    "import ultimate_sleuthbuilder as usb\n",
    "\n",
    "# Test strings\n",
    "test_string = \"100001100101001001000000\"\n",
    "\n",
    "usb.analyze_sequence(test_string)"
   ]
  }
 ],
 "metadata": {
  "kernelspec": {
   "display_name": "coin-sleuth-tRbDaKlX-py3.10",
   "language": "python",
   "name": "python3"
  },
  "language_info": {
   "codemirror_mode": {
    "name": "ipython",
    "version": 3
   },
   "file_extension": ".py",
   "mimetype": "text/x-python",
   "name": "python",
   "nbconvert_exporter": "python",
   "pygments_lexer": "ipython3",
   "version": "3.12.3"
  }
 },
 "nbformat": 4,
 "nbformat_minor": 2
}
