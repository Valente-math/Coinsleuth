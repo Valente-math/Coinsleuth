{
 "cells": [
  {
   "cell_type": "code",
   "execution_count": 2,
   "metadata": {},
   "outputs": [
    {
     "name": "stdout",
     "output_type": "stream",
     "text": [
      "      key  chi_squared  p_value\n",
      "0   00000    17.000000   0.0625\n",
      "1   00001     7.571429   0.1875\n",
      "2   00010     2.485714   0.7500\n",
      "3   00011     3.533333   0.3750\n",
      "4   00100     2.904762   0.5625\n",
      "5   00101     1.476190   1.0000\n",
      "6   00110     2.904762   0.5625\n",
      "7   00111     3.533333   0.3750\n",
      "8   01000     2.485714   0.7500\n",
      "9   01001     1.476190   1.0000\n",
      "10  01010     7.285714   0.2500\n",
      "11  01011     1.476190   1.0000\n",
      "12  01100     2.904762   0.5625\n",
      "13  01101     1.476190   1.0000\n",
      "14  01110     2.485714   0.7500\n",
      "15  01111     7.571429   0.1875\n",
      "16  10000     7.571429   0.1875\n",
      "17  10001     2.485714   0.7500\n",
      "18  10010     1.476190   1.0000\n",
      "19  10011     2.904762   0.5625\n",
      "20  10100     1.476190   1.0000\n",
      "21  10101     7.285714   0.2500\n",
      "22  10110     1.476190   1.0000\n",
      "23  10111     2.485714   0.7500\n",
      "24  11000     3.533333   0.3750\n",
      "25  11001     2.904762   0.5625\n",
      "26  11010     1.476190   1.0000\n",
      "27  11011     2.904762   0.5625\n",
      "28  11100     3.533333   0.3750\n",
      "29  11101     2.485714   0.7500\n",
      "30  11110     7.571429   0.1875\n",
      "31  11111    17.000000   0.0625\n",
      "      key  chi_squared  rank   p_value\n",
      "0   00000    17.000000   1.5  0.984375\n",
      "1   11111    17.000000   1.5  0.984375\n",
      "2   10000     7.571429   4.5  0.890625\n",
      "3   11110     7.571429   4.5  0.890625\n",
      "4   00001     7.571429   4.5  0.890625\n",
      "5   01111     7.571429   4.5  0.890625\n",
      "6   01010     7.285714   7.5  0.796875\n",
      "7   10101     7.285714   7.5  0.796875\n",
      "8   00011     3.533333  10.5  0.703125\n",
      "9   00111     3.533333  10.5  0.703125\n",
      "10  11100     3.533333  10.5  0.703125\n",
      "11  11000     3.533333  10.5  0.703125\n",
      "12  11001     2.904762  15.5  0.546875\n",
      "13  11011     2.904762  15.5  0.546875\n",
      "14  01100     2.904762  15.5  0.546875\n",
      "15  00110     2.904762  15.5  0.546875\n",
      "16  00100     2.904762  15.5  0.546875\n",
      "17  10011     2.904762  15.5  0.546875\n",
      "18  11101     2.485714  21.5  0.359375\n",
      "19  10111     2.485714  21.5  0.359375\n",
      "20  00010     2.485714  21.5  0.359375\n",
      "21  01110     2.485714  21.5  0.359375\n",
      "22  01000     2.485714  21.5  0.359375\n",
      "23  10001     2.485714  21.5  0.359375\n",
      "24  10100     1.476190  28.5  0.140625\n",
      "25  10110     1.476190  28.5  0.140625\n",
      "26  10010     1.476190  28.5  0.140625\n",
      "27  01101     1.476190  28.5  0.140625\n",
      "28  11010     1.476190  28.5  0.140625\n",
      "29  01011     1.476190  28.5  0.140625\n",
      "30  01001     1.476190  28.5  0.140625\n",
      "31  00101     1.476190  28.5  0.140625\n"
     ]
    }
   ],
   "source": [
    "import sleuthbuilder as sb\n",
    "\n",
    "observations_df = sb.build_observations_df(5)\n",
    "# print(observations_df)\n",
    "\n",
    "expectations_df = sb.build_expectations_df(observations_df)\n",
    "# print(expectations_df)\n",
    "\n",
    "statistics_df = sb.build_statistics_df(observations_df, expectations_df)\n",
    "statistics_df_v2 = sb.build_statistics_df_v2(observations_df, expectations_df)\n",
    "print(statistics_df)\n",
    "print(statistics_df_v2)"
   ]
  },
  {
   "cell_type": "code",
   "execution_count": null,
   "metadata": {},
   "outputs": [],
   "source": [
    "sb.build_statistics_database(1, 10, store_observations=True, store_expectations=True, verbose=True)"
   ]
  },
  {
   "cell_type": "code",
   "execution_count": null,
   "metadata": {},
   "outputs": [],
   "source": [
    "sb.get_p_value_for_string(\"1001001111\")"
   ]
  },
  {
   "cell_type": "code",
   "execution_count": null,
   "metadata": {},
   "outputs": [],
   "source": []
  }
 ],
 "metadata": {
  "kernelspec": {
   "display_name": "coin-sleuth-tRbDaKlX-py3.10",
   "language": "python",
   "name": "python3"
  },
  "language_info": {
   "codemirror_mode": {
    "name": "ipython",
    "version": 3
   },
   "file_extension": ".py",
   "mimetype": "text/x-python",
   "name": "python",
   "nbconvert_exporter": "python",
   "pygments_lexer": "ipython3",
   "version": "3.10.13"
  }
 },
 "nbformat": 4,
 "nbformat_minor": 2
}
